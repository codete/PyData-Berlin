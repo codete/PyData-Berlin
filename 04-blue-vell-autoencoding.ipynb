{
 "cells": [
  {
   "cell_type": "code",
   "execution_count": 1,
   "metadata": {},
   "outputs": [],
   "source": [
    "%matplotlib inline"
   ]
  },
  {
   "cell_type": "markdown",
   "metadata": {},
   "source": [
    "## Remove black box around the lesion"
   ]
  },
  {
   "cell_type": "code",
   "execution_count": 2,
   "metadata": {
    "scrolled": false
   },
   "outputs": [
    {
     "ename": "NameError",
     "evalue": "name 'io' is not defined",
     "output_type": "error",
     "traceback": [
      "\u001b[0;31m---------------------------------------------------------------------------\u001b[0m",
      "\u001b[0;31mNameError\u001b[0m                                 Traceback (most recent call last)",
      "\u001b[0;32m<ipython-input-2-04934b078dda>\u001b[0m in \u001b[0;36m<module>\u001b[0;34m\u001b[0m\n\u001b[0;32m----> 1\u001b[0;31m \u001b[0mimage_rgb\u001b[0m \u001b[0;34m=\u001b[0m \u001b[0mio\u001b[0m\u001b[0;34m.\u001b[0m\u001b[0mimread\u001b[0m\u001b[0;34m(\u001b[0m\u001b[0;34m\"./data/blue-veil/ISIC_0054527.jpg\"\u001b[0m\u001b[0;34m)\u001b[0m\u001b[0;34m\u001b[0m\u001b[0;34m\u001b[0m\u001b[0m\n\u001b[0m\u001b[1;32m      2\u001b[0m \u001b[0mio\u001b[0m\u001b[0;34m.\u001b[0m\u001b[0mimshow\u001b[0m\u001b[0;34m(\u001b[0m\u001b[0mimage_rgb\u001b[0m\u001b[0;34m)\u001b[0m\u001b[0;34m\u001b[0m\u001b[0;34m\u001b[0m\u001b[0m\n",
      "\u001b[0;31mNameError\u001b[0m: name 'io' is not defined"
     ]
    }
   ],
   "source": [
    "image_rgb = io.imread(\"./data/blue-veil/ISIC_0054527.jpg\")\n",
    "io.imshow(image_rgb)"
   ]
  },
  {
   "cell_type": "code",
   "execution_count": null,
   "metadata": {
    "scrolled": false
   },
   "outputs": [],
   "source": [
    "from skimage.transform import rotate\n",
    "\n",
    "def prepare_single_border_mask(binary):\n",
    "    mask = np.zeros_like(binary)\n",
    "    for i, row in enumerate(binary):\n",
    "        fill_ones = False\n",
    "        for j, cell in enumerate(row):\n",
    "            if fill_ones:\n",
    "                mask[i, j] = 1.0\n",
    "                continue\n",
    "            if 0.0 == cell:\n",
    "                continue\n",
    "            mask[i, j] = 1.0\n",
    "            fill_ones = True\n",
    "    return mask.astype(bool)\n",
    "\n",
    "def prepare_border_mask(binary, dim=1):\n",
    "    rotated_90 = rotate(binary, 90, preserve_range=True)\n",
    "    rotated_180 = rotate(binary, 180, preserve_range=True)\n",
    "    rotated_270 = rotate(binary, 270, preserve_range=True)\n",
    "    # Create masks in each direction\n",
    "    mask_0 = prepare_single_border_mask(binary)\n",
    "    mask_90 = rotate(prepare_single_border_mask(rotated_90), -90, \n",
    "                     preserve_range=True)\n",
    "    mask_180 = rotate(prepare_single_border_mask(rotated_180), -180,\n",
    "                     preserve_range=True)\n",
    "    mask_270 = rotate(prepare_single_border_mask(rotated_270), -270,\n",
    "                      preserve_range=True)\n",
    "    mask = (np.logical_and(mask_0, mask_90) & \\\n",
    "            np.logical_and(mask_180, mask_270)).astype(bool)\n",
    "    return mask"
   ]
  },
  {
   "cell_type": "code",
   "execution_count": null,
   "metadata": {},
   "outputs": [],
   "source": [
    "def get_average_colour(image_rgb, border_mask):\n",
    "    masked_image_rgb = image_rgb[border_mask]\n",
    "    r, g, b = np.mean(masked_image_rgb[:, 0]), \\\n",
    "        np.mean(masked_image_rgb[:, 1]), \\\n",
    "        np.mean(masked_image_rgb[:, 2])\n",
    "    return np.array([r, g, b], dtype=np.uint8)"
   ]
  },
  {
   "cell_type": "code",
   "execution_count": null,
   "metadata": {},
   "outputs": [],
   "source": [
    "from skimage.filters import threshold_otsu\n",
    "from skimage.color import rgb2gray\n",
    "\n",
    "def get_border_mask(image_rgb):\n",
    "    image_gray = rgb2gray(image_rgb)\n",
    "    thresh = threshold_otsu(image_gray)\n",
    "    binary = (image_gray > thresh).astype(int)\n",
    "    return prepare_border_mask(binary)\n",
    "\n",
    "def remove_border(image_rgb):\n",
    "    border_mask = get_border_mask(image_rgb)\n",
    "    avg_colour = get_average_colour(image_rgb, border_mask)\n",
    "    borderless_image_rgb = np.copy(image_rgb)\n",
    "    borderless_image_rgb[~border_mask] = avg_colour\n",
    "    return borderless_image_rgb"
   ]
  },
  {
   "cell_type": "code",
   "execution_count": null,
   "metadata": {
    "scrolled": false
   },
   "outputs": [],
   "source": [
    "borderless_image_rgb = remove_border(image_rgb)\n",
    "io.imshow(borderless_image_rgb)"
   ]
  },
  {
   "cell_type": "code",
   "execution_count": null,
   "metadata": {},
   "outputs": [],
   "source": [
    "def get_3d_border_mask(image_rgb):\n",
    "    mask_2d = get_border_mask(image_rgb * 3)\n",
    "    return np.dstack([mask_2d] * 3)"
   ]
  },
  {
   "cell_type": "markdown",
   "metadata": {},
   "source": [
    "# Blue veil histogram encoding"
   ]
  },
  {
   "cell_type": "code",
   "execution_count": null,
   "metadata": {},
   "outputs": [],
   "source": [
    "from skimage import io\n",
    "from glob import glob\n",
    "\n",
    "for img_path in glob(\"./data/blue-veil/*\"):\n",
    "    image_rgb = io.imread(img_path)\n",
    "    io.imshow(image_rgb)\n",
    "    break"
   ]
  },
  {
   "cell_type": "code",
   "execution_count": null,
   "metadata": {},
   "outputs": [],
   "source": [
    "image_rgb.shape"
   ]
  },
  {
   "cell_type": "code",
   "execution_count": null,
   "metadata": {},
   "outputs": [],
   "source": [
    "image_r = image_rgb[:, :, 0]\n",
    "image_g = image_rgb[:, :, 1]\n",
    "image_b = image_rgb[:, :, 2]"
   ]
  },
  {
   "cell_type": "code",
   "execution_count": null,
   "metadata": {},
   "outputs": [],
   "source": [
    "from skimage.exposure import histogram\n",
    "\n",
    "from matplotlib import pyplot as plt\n",
    "\n",
    "def show_histogram(image_channel, **kwargs):\n",
    "    hist, bin_centers = histogram(image_channel, nbins=256)\n",
    "    plt.plot(bin_centers, hist, **kwargs)"
   ]
  },
  {
   "cell_type": "code",
   "execution_count": null,
   "metadata": {},
   "outputs": [],
   "source": [
    "show_histogram(image_r, c=\"r\", label=\"red\")\n",
    "show_histogram(image_g, c=\"g\", label=\"green\")\n",
    "show_histogram(image_b, c=\"b\", label=\"blue\")\n",
    "plt.legend()"
   ]
  },
  {
   "cell_type": "code",
   "execution_count": null,
   "metadata": {},
   "outputs": [],
   "source": [
    "from skimage.color import rgb2hsv\n",
    "\n",
    "image_hsv = rgb2hsv(image_rgb)\n",
    "show_histogram(image_hsv[:, :, 0], label=\"hue\")\n",
    "show_histogram(image_hsv[:, :, 1], label=\"saturation\")\n",
    "show_histogram(image_hsv[:, :, 2], label=\"value\")\n",
    "plt.legend()"
   ]
  },
  {
   "cell_type": "code",
   "execution_count": null,
   "metadata": {},
   "outputs": [],
   "source": [
    "import numpy as np\n",
    "\n",
    "def vectorized_histogram(image_rgb):\n",
    "    histograms = []\n",
    "    for ch in range(image_rgb.shape[2]):\n",
    "        mask_2d = get_border_mask(image_rgb)\n",
    "        image_channel = image_rgb[:, :, ch][mask_2d]\n",
    "        hist, _ = np.histogram(image_channel, density=True,\n",
    "                               bins=256, range=(0,255))\n",
    "        histograms.append(hist)\n",
    "    return np.stack(histograms).reshape((-1, ))"
   ]
  },
  {
   "cell_type": "code",
   "execution_count": null,
   "metadata": {},
   "outputs": [],
   "source": [
    "vectorized_histogram(image_rgb)"
   ]
  },
  {
   "cell_type": "code",
   "execution_count": null,
   "metadata": {},
   "outputs": [],
   "source": [
    "import pandas as pd\n",
    "\n",
    "filenames, dataset = [], []\n",
    "for img_path in glob(\"./data/blue-veil/*\"):\n",
    "    try:\n",
    "        image_rgb = io.imread(img_path)\n",
    "        hist = vectorized_histogram(image_rgb)\n",
    "        filenames.append(img_path)\n",
    "        dataset.append(hist)\n",
    "    except ValueError as e:\n",
    "        print(\"Error while processing\", img_path)\n",
    "\n",
    "dataset_df = pd.DataFrame(dataset, index=filenames)\n",
    "dataset_df.to_csv(\"./data/blue-veil.csv\")\n",
    "dataset_df.head()"
   ]
  },
  {
   "cell_type": "code",
   "execution_count": null,
   "metadata": {},
   "outputs": [],
   "source": [
    "vector_length = dataset_df.iloc[0].shape[0] # should be 768"
   ]
  },
  {
   "cell_type": "code",
   "execution_count": null,
   "metadata": {},
   "outputs": [],
   "source": [
    "from os import path\n",
    "\n",
    "full_filenames, full_dataset = [], []\n",
    "for img_path in glob(\"./data/ISIC_2019_Test_Input/*\"):\n",
    "    try:\n",
    "        image_rgb = io.imread(img_path)\n",
    "        hist = vectorized_histogram(image_rgb)\n",
    "        full_filenames.append(img_path)\n",
    "        full_dataset.append(hist)\n",
    "    except ValueError as e:\n",
    "        print(\"Error while processing\", img_path)\n",
    "\n",
    "full_dataset_df = pd.DataFrame(full_dataset, index=full_filenames)\n",
    "full_dataset_df.to_csv(\"./data/ISIC_2019_Test_Input.csv\")\n",
    "full_dataset_df.head()"
   ]
  },
  {
   "cell_type": "code",
   "execution_count": null,
   "metadata": {},
   "outputs": [],
   "source": [
    "from sklearn.model_selection import train_test_split\n",
    "\n",
    "X_train, X_validate = train_test_split(dataset_df, test_size=0.1, \n",
    "                                       random_state=2019)\n",
    "X_train, X_test = train_test_split(X_train, test_size=0.25, \n",
    "                                   random_state=2020)"
   ]
  },
  {
   "cell_type": "code",
   "execution_count": null,
   "metadata": {},
   "outputs": [],
   "source": [
    "from keras.models import Sequential\n",
    "from keras.layers import Dense, Activation\n",
    "from keras.models import Model\n",
    "\n",
    "autoencoder = Sequential([\n",
    "    Dense(64, input_shape=(vector_length, )),\n",
    "    Activation(\"tanh\"),\n",
    "    Dense(64),\n",
    "    Activation(\"tanh\"),\n",
    "    Dense(32),\n",
    "    Activation(\"tanh\"),\n",
    "    Dense(16),\n",
    "    Activation(\"tanh\"),\n",
    "    Dense(8), # coding layer\n",
    "    Activation(\"tanh\"),\n",
    "    Dense(16),\n",
    "    Activation(\"tanh\"),\n",
    "    Dense(32),\n",
    "    Activation(\"tanh\"),\n",
    "    Dense(64),\n",
    "    Activation(\"tanh\"),\n",
    "    Dense(64),\n",
    "    Activation(\"tanh\"),\n",
    "    Dense(vector_length),\n",
    "])"
   ]
  },
  {
   "cell_type": "code",
   "execution_count": null,
   "metadata": {},
   "outputs": [],
   "source": [
    "autoencoder.compile(optimizer=\"adam\", \n",
    "                    loss=\"mean_squared_error\")"
   ]
  },
  {
   "cell_type": "code",
   "execution_count": null,
   "metadata": {
    "scrolled": true
   },
   "outputs": [],
   "source": [
    "autoencoder.fit(X_train, X_train,\n",
    "                epochs=5000,\n",
    "                batch_size=128,\n",
    "                shuffle=True,\n",
    "                validation_data=(X_validate, X_validate))"
   ]
  },
  {
   "cell_type": "code",
   "execution_count": null,
   "metadata": {},
   "outputs": [],
   "source": [
    "from keras.losses import mean_squared_error, logcosh\n",
    "from keras import backend as K\n",
    "\n",
    "mse_train = K.eval(mean_squared_error(X_train, \n",
    "                                      autoencoder.predict(X_train)))"
   ]
  },
  {
   "cell_type": "code",
   "execution_count": null,
   "metadata": {},
   "outputs": [],
   "source": [
    "mse_validate = K.eval(mean_squared_error(X_validate,\n",
    "                                         autoencoder.predict(X_validate)))"
   ]
  },
  {
   "cell_type": "code",
   "execution_count": null,
   "metadata": {},
   "outputs": [],
   "source": [
    "mse_test = K.eval(mean_squared_error(X_test, \n",
    "                                     autoencoder.predict(X_test)))"
   ]
  },
  {
   "cell_type": "code",
   "execution_count": null,
   "metadata": {},
   "outputs": [],
   "source": [
    "mse_full = K.eval(mean_squared_error(full_dataset_df, \n",
    "                                     autoencoder.predict(full_dataset_df)))"
   ]
  },
  {
   "cell_type": "code",
   "execution_count": null,
   "metadata": {},
   "outputs": [],
   "source": [
    "plt.boxplot([mse_train, mse_validate, mse_test, mse_full], \n",
    "            labels=[\"train\", \"validation\", \"test\", \"full\"])\n",
    "plt.show()"
   ]
  },
  {
   "cell_type": "code",
   "execution_count": null,
   "metadata": {},
   "outputs": [],
   "source": [
    "import random\n",
    "\n",
    "random_index = random.randint(0, X_test.shape[0])\n",
    "plt.scatter(range(768), X_test[random_index:random_index + 1], c=\"b\")\n",
    "plt.scatter(range(768), autoencoder.predict(X_test[random_index:random_index + 1]), c=\"r\")"
   ]
  },
  {
   "cell_type": "code",
   "execution_count": null,
   "metadata": {},
   "outputs": [],
   "source": [
    "np.mean(mse_full), np.min(mse_full), np.max(mse_full)"
   ]
  },
  {
   "cell_type": "code",
   "execution_count": null,
   "metadata": {},
   "outputs": [],
   "source": [
    "np.mean(mse_train), np.min(mse_train), np.max(mse_train)"
   ]
  },
  {
   "cell_type": "code",
   "execution_count": null,
   "metadata": {},
   "outputs": [],
   "source": [
    "np.mean(mse_test), np.min(mse_test), np.max(mse_test)"
   ]
  },
  {
   "cell_type": "code",
   "execution_count": null,
   "metadata": {},
   "outputs": [],
   "source": [
    "from datetime import datetime\n",
    "\n",
    "current_datetime = datetime.now().strftime(\"%Y%m%d%H%M%S\")\n",
    "autoencoder.save(\n",
    "    \"./model/autoencoder-blue-veil-%s.h5\" % current_datetime)"
   ]
  },
  {
   "cell_type": "markdown",
   "metadata": {},
   "source": [
    "## Checking the outliers"
   ]
  },
  {
   "cell_type": "code",
   "execution_count": null,
   "metadata": {},
   "outputs": [],
   "source": [
    "full_df = full_dataset_df.copy()\n",
    "full_df[\"mse\"] = mse_full\n",
    "full_df.head()"
   ]
  },
  {
   "cell_type": "code",
   "execution_count": null,
   "metadata": {
    "scrolled": false
   },
   "outputs": [],
   "source": [
    "from skimage.io.collection import ImageCollection\n",
    "\n",
    "def display_filtered(collection):\n",
    "    for i in range(0, n_elements, 6):\n",
    "        subcollection = collection[i:i + 6]\n",
    "        fig, axs = plt.subplots(2, 3, figsize=(16., 10.))\n",
    "        axs = axs.flatten()\n",
    "        for img, ax in zip(subcollection, axs):\n",
    "            ax.axis(\"off\")\n",
    "            ax.imshow(img)\n",
    "        fig.show()\n",
    "\n",
    "def display_n_smallest(df, n_elements=100):\n",
    "    collection = ImageCollection(df.nsmallest(n_elements, \n",
    "                                              \"mse\").index)\n",
    "    display_filtered(collection)\n",
    "\n",
    "def display_n_largest(df, n_elements=100):\n",
    "    collection = ImageCollection(df.nlargest(n_elements, \n",
    "                                             \"mse\").index)\n",
    "    display_filtered(collection)"
   ]
  },
  {
   "cell_type": "code",
   "execution_count": null,
   "metadata": {
    "scrolled": true
   },
   "outputs": [],
   "source": [
    "display_n_smallest(full_df)"
   ]
  },
  {
   "cell_type": "code",
   "execution_count": null,
   "metadata": {},
   "outputs": [],
   "source": [
    "test_df = pd.DataFrame(X_test)\n",
    "test_df[\"mse\"] = mse_test\n",
    "test_df.head()"
   ]
  },
  {
   "cell_type": "code",
   "execution_count": null,
   "metadata": {
    "scrolled": true
   },
   "outputs": [],
   "source": [
    "display_n_smallest(test_df)"
   ]
  },
  {
   "cell_type": "code",
   "execution_count": null,
   "metadata": {
    "scrolled": true
   },
   "outputs": [],
   "source": [
    "display_n_largest(test_df, 18)"
   ]
  },
  {
   "cell_type": "markdown",
   "metadata": {},
   "source": [
    "## Threshold"
   ]
  },
  {
   "cell_type": "code",
   "execution_count": null,
   "metadata": {},
   "outputs": [],
   "source": [
    "isic_training_df = pd.read_csv(\n",
    "    \"./data/ISIC_2019_Training_GroundTruth.csv\")\n",
    "isic_training_df[1.0 != isic_training_df[\"MEL\"]]"
   ]
  },
  {
   "cell_type": "code",
   "execution_count": null,
   "metadata": {
    "scrolled": true
   },
   "outputs": [],
   "source": [
    "limited_df = isic_training_df[1.0 != isic_training_df[\"MEL\"]]\n",
    "\n",
    "full_train_filenames, full_train_dataset = [], []\n",
    "for image_filename in limited_df[\"image\"]:\n",
    "    try:\n",
    "        img_path = \"./data/ISIC_2019_Training_Input/%s.jpg\" % image_filename\n",
    "        image_rgb = io.imread(img_path)\n",
    "        hist = vectorized_histogram(image_rgb)\n",
    "        full_train_filenames.append(img_path)\n",
    "        full_train_dataset.append(hist)\n",
    "    except ValueError as e:\n",
    "        print(\"Error while processing\", img_path)\n",
    "        \n",
    "full_train_dataset_df = pd.DataFrame(full_train_dataset, \n",
    "                                     index=full_train_filenames)\n",
    "full_train_dataset_df.to_csv(\"./data/ISIC_2019_Training_Input.csv\")\n",
    "full_train_dataset_df.head()"
   ]
  },
  {
   "cell_type": "code",
   "execution_count": null,
   "metadata": {},
   "outputs": [],
   "source": [
    "mse_train_full = K.eval(mean_squared_error(\n",
    "    full_train_dataset_df, autoencoder.predict(full_train_dataset_df)))"
   ]
  },
  {
   "cell_type": "code",
   "execution_count": null,
   "metadata": {},
   "outputs": [],
   "source": [
    "plt.boxplot(\n",
    "    [mse_train, mse_validate, mse_test, mse_full, mse_train_full], \n",
    "    labels=[\"train\", \"validation\", \"test\", \"full\", \"train_full\"])\n",
    "plt.show()"
   ]
  },
  {
   "cell_type": "code",
   "execution_count": null,
   "metadata": {},
   "outputs": [],
   "source": [
    "np.mean(mse_train_full), np.min(mse_train_full), np.max(mse_train_full)"
   ]
  },
  {
   "cell_type": "markdown",
   "metadata": {},
   "source": [
    "### Choosing the right threshold"
   ]
  },
  {
   "cell_type": "code",
   "execution_count": null,
   "metadata": {},
   "outputs": [],
   "source": [
    "from sklearn import metrics"
   ]
  },
  {
   "cell_type": "code",
   "execution_count": 4,
   "metadata": {},
   "outputs": [
    {
     "ename": "NameError",
     "evalue": "name 'X_train' is not defined",
     "output_type": "error",
     "traceback": [
      "\u001b[0;31m---------------------------------------------------------------------------\u001b[0m",
      "\u001b[0;31mNameError\u001b[0m                                 Traceback (most recent call last)",
      "\u001b[0;32m<ipython-input-4-1a4eff21c9a3>\u001b[0m in \u001b[0;36m<module>\u001b[0;34m\u001b[0m\n\u001b[1;32m      2\u001b[0m \u001b[0;34m\u001b[0m\u001b[0m\n\u001b[1;32m      3\u001b[0m y_true = np.concatenate([\n\u001b[0;32m----> 4\u001b[0;31m     \u001b[0;34m[\u001b[0m\u001b[0;36m1\u001b[0m\u001b[0;34m]\u001b[0m \u001b[0;34m*\u001b[0m \u001b[0mlen\u001b[0m\u001b[0;34m(\u001b[0m\u001b[0mX_train\u001b[0m\u001b[0;34m)\u001b[0m\u001b[0;34m,\u001b[0m\u001b[0;34m\u001b[0m\u001b[0;34m\u001b[0m\u001b[0m\n\u001b[0m\u001b[1;32m      5\u001b[0m     \u001b[0;34m[\u001b[0m\u001b[0;36m1\u001b[0m\u001b[0;34m]\u001b[0m \u001b[0;34m*\u001b[0m \u001b[0mlen\u001b[0m\u001b[0;34m(\u001b[0m\u001b[0mX_validate\u001b[0m\u001b[0;34m)\u001b[0m\u001b[0;34m,\u001b[0m\u001b[0;34m\u001b[0m\u001b[0;34m\u001b[0m\u001b[0m\n\u001b[1;32m      6\u001b[0m     \u001b[0;34m[\u001b[0m\u001b[0;36m1\u001b[0m\u001b[0;34m]\u001b[0m \u001b[0;34m*\u001b[0m \u001b[0mlen\u001b[0m\u001b[0;34m(\u001b[0m\u001b[0mX_test\u001b[0m\u001b[0;34m)\u001b[0m\u001b[0;34m,\u001b[0m\u001b[0;34m\u001b[0m\u001b[0;34m\u001b[0m\u001b[0m\n",
      "\u001b[0;31mNameError\u001b[0m: name 'X_train' is not defined"
     ]
    }
   ],
   "source": [
    "y_true = np.concatenate([\n",
    "    [1] * len(X_train),\n",
    "    [1] * len(X_validate),\n",
    "    [1] * len(X_test),\n",
    "    [0] * full_train_dataset_df.shape[0],\n",
    "])\n",
    "mse_all = np.concatenate([\n",
    "    mse_train,\n",
    "    mse_validate,\n",
    "    mse_test,\n",
    "    mse_train_full,\n",
    "])\n",
    "\n",
    "# curr_threshold = np.mean(mse_full)\n",
    "\n",
    "ths = np.linspace(np.min(mse_full), \n",
    "                  np.mean(mse_full) / 2, \n",
    "                  1000)\n",
    "f1_scores, precision_scores, recall_scores, accuracy_scores = [], [], [], []\n",
    "for curr_threshold in ths:\n",
    "    y_pred = (mse_all < curr_threshold).astype(int)\n",
    "    f1_scores.append(\n",
    "        metrics.f1_score(y_true, y_pred))\n",
    "    precision_scores.append(\n",
    "        metrics.precision_score(y_true, y_pred))\n",
    "    recall_scores.append(\n",
    "        metrics.recall_score(y_true, y_pred))\n",
    "    accuracy_scores.append(\n",
    "        metrics.accuracy_score(y_true, y_pred))\n",
    "\n",
    "metric_scores_df = pd.DataFrame({\n",
    "    \"f1\": f1_scores,\n",
    "    \"precision\": precision_scores,\n",
    "    \"recall\": recall_scores,\n",
    "    \"accuracy\": accuracy_scores,\n",
    "}, index=ths)\n",
    "metric_scores_df.plot()"
   ]
  },
  {
   "cell_type": "code",
   "execution_count": null,
   "metadata": {},
   "outputs": [],
   "source": []
  }
 ],
 "metadata": {
  "kernelspec": {
   "display_name": "Python 3",
   "language": "python",
   "name": "python3"
  },
  "language_info": {
   "codemirror_mode": {
    "name": "ipython",
    "version": 3
   },
   "file_extension": ".py",
   "mimetype": "text/x-python",
   "name": "python",
   "nbconvert_exporter": "python",
   "pygments_lexer": "ipython3",
   "version": "3.6.8"
  }
 },
 "nbformat": 4,
 "nbformat_minor": 2
}
